{
  "nbformat": 4,
  "nbformat_minor": 0,
  "metadata": {
    "colab": {
      "provenance": [],
      "toc_visible": true,
      "authorship_tag": "ABX9TyNyu2bU3jnEOxTS1bov8o4I",
      "include_colab_link": true
    },
    "kernelspec": {
      "name": "python3",
      "display_name": "Python 3"
    },
    "language_info": {
      "name": "python"
    }
  },
  "cells": [
    {
      "cell_type": "markdown",
      "metadata": {
        "id": "view-in-github",
        "colab_type": "text"
      },
      "source": [
        "<a href=\"https://colab.research.google.com/github/Ankit23232/Python/blob/main/Workshop1.ipynb\" target=\"_parent\"><img src=\"https://colab.research.google.com/assets/colab-badge.svg\" alt=\"Open In Colab\"/></a>"
      ]
    },
    {
      "cell_type": "code",
      "execution_count": 1,
      "metadata": {
        "colab": {
          "base_uri": "https://localhost:8080/"
        },
        "id": "U88iKvjNjIxZ",
        "outputId": "2efa6bd3-380b-435a-f4cd-0cee9e8674d0"
      },
      "outputs": [
        {
          "output_type": "stream",
          "name": "stdout",
          "text": [
            "[[0. 0.]\n",
            " [0. 0.]]\n"
          ]
        }
      ],
      "source": [
        "#Initialize an empty array with size 2*2\n",
        "import numpy as np\n",
        "zero_arr = np.zeros((2,2))\n",
        "print(zero_arr)"
      ]
    },
    {
      "cell_type": "code",
      "source": [
        "#Initialize an all one array with size 4*2\n",
        "import numpy as np\n",
        "one_arr =np.ones((4,2))\n",
        "print(one_arr)"
      ],
      "metadata": {
        "colab": {
          "base_uri": "https://localhost:8080/"
        },
        "id": "SU81aZuXjMcM",
        "outputId": "3736e838-0eb5-4014-c143-e1042bb992a9"
      },
      "execution_count": 2,
      "outputs": [
        {
          "output_type": "stream",
          "name": "stdout",
          "text": [
            "[[1. 1.]\n",
            " [1. 1.]\n",
            " [1. 1.]\n",
            " [1. 1.]]\n"
          ]
        }
      ]
    },
    {
      "cell_type": "code",
      "source": [
        "#Return a new array of given shape and type, filled with full_value.\n",
        "import numpy as np\n",
        "array = np.full((4,2), fill_value = 1000)\n",
        "print(array)"
      ],
      "metadata": {
        "colab": {
          "base_uri": "https://localhost:8080/"
        },
        "id": "NZMIpJn9jPGC",
        "outputId": "a9d1009f-ef4d-4ecd-96a0-70b7b7bb5d3d"
      },
      "execution_count": 3,
      "outputs": [
        {
          "output_type": "stream",
          "name": "stdout",
          "text": [
            "[[1000 1000]\n",
            " [1000 1000]\n",
            " [1000 1000]\n",
            " [1000 1000]]\n"
          ]
        }
      ]
    },
    {
      "cell_type": "code",
      "source": [
        "#Return a new array of zeros with same shae and type and type a given array.\n",
        "import numpy as np\n",
        "array = np.zeros((4,2))\n",
        "print(array)"
      ],
      "metadata": {
        "colab": {
          "base_uri": "https://localhost:8080/"
        },
        "id": "NAhlT7i3jSHK",
        "outputId": "693b189e-ec2f-4a56-c3c3-4dcc433a7362"
      },
      "execution_count": 4,
      "outputs": [
        {
          "output_type": "stream",
          "name": "stdout",
          "text": [
            "[[0. 0.]\n",
            " [0. 0.]\n",
            " [0. 0.]\n",
            " [0. 0.]]\n"
          ]
        }
      ]
    },
    {
      "cell_type": "code",
      "source": [
        "#Return a new array of ones with same shae and type and type a given array.\n",
        "import numpy as np\n",
        "array = np.ones((4,2))\n",
        "print(array)"
      ],
      "metadata": {
        "colab": {
          "base_uri": "https://localhost:8080/"
        },
        "id": "9puecmn2jVBl",
        "outputId": "fd01a10e-45df-47d2-c2ec-84fe07fcce3d"
      },
      "execution_count": 5,
      "outputs": [
        {
          "output_type": "stream",
          "name": "stdout",
          "text": [
            "[[1. 1.]\n",
            " [1. 1.]\n",
            " [1. 1.]\n",
            " [1. 1.]]\n"
          ]
        }
      ]
    },
    {
      "cell_type": "code",
      "source": [
        "#For an existing list new_list = [1,2,3,4] convert to an numpy array.\n",
        "import numpy as np\n",
        "new_list = [1,2,3,4]\n",
        "array = np.array(new_list)\n",
        "print(type(array))"
      ],
      "metadata": {
        "colab": {
          "base_uri": "https://localhost:8080/"
        },
        "id": "UphnlGvdjX-8",
        "outputId": "9d80b8b4-c266-458e-b479-9e6d00a87cbd"
      },
      "execution_count": 6,
      "outputs": [
        {
          "output_type": "stream",
          "name": "stdout",
          "text": [
            "<class 'numpy.ndarray'>\n"
          ]
        }
      ]
    },
    {
      "cell_type": "code",
      "source": [
        "#Create an array with values ranging from 10 to 49.\n",
        "import numpy as np\n",
        "a = np.arange(10,49)\n",
        "print(a)"
      ],
      "metadata": {
        "colab": {
          "base_uri": "https://localhost:8080/"
        },
        "id": "mRp6IeDujahV",
        "outputId": "48cb1a27-5741-4431-cf4a-d2531383fdfb"
      },
      "execution_count": 7,
      "outputs": [
        {
          "output_type": "stream",
          "name": "stdout",
          "text": [
            "[10 11 12 13 14 15 16 17 18 19 20 21 22 23 24 25 26 27 28 29 30 31 32 33\n",
            " 34 35 36 37 38 39 40 41 42 43 44 45 46 47 48]\n"
          ]
        }
      ]
    },
    {
      "cell_type": "code",
      "source": [
        "#Create a 3X3 matrix with values ranging\n",
        "#from 0 to 8.\n",
        "import numpy as np\n",
        "x = np.arange(9).reshape(3,3)\n",
        "print(x)"
      ],
      "metadata": {
        "colab": {
          "base_uri": "https://localhost:8080/"
        },
        "id": "9T-b9aTEjmTp",
        "outputId": "ea01ddeb-ccf4-4b73-a9d7-39b7ce0bec1d"
      },
      "execution_count": 8,
      "outputs": [
        {
          "output_type": "stream",
          "name": "stdout",
          "text": [
            "[[0 1 2]\n",
            " [3 4 5]\n",
            " [6 7 8]]\n"
          ]
        }
      ]
    },
    {
      "cell_type": "code",
      "source": [
        "#Create a 3X3 identity matrix.\n",
        "import numpy as np\n",
        "x = np.eye(3,3)\n",
        "print(x)"
      ],
      "metadata": {
        "colab": {
          "base_uri": "https://localhost:8080/"
        },
        "id": "8EmUZfQJjo9n",
        "outputId": "d2147011-0458-4449-8fca-ff2ed73887da"
      },
      "execution_count": 9,
      "outputs": [
        {
          "output_type": "stream",
          "name": "stdout",
          "text": [
            "[[1. 0. 0.]\n",
            " [0. 1. 0.]\n",
            " [0. 0. 1.]]\n"
          ]
        }
      ]
    },
    {
      "cell_type": "code",
      "source": [
        "#Create a random array of size 30 and find\n",
        "#the mean of the array.\n",
        "import numpy as np\n",
        "x = np.random.random(30).mean()\n",
        "print(x)"
      ],
      "metadata": {
        "colab": {
          "base_uri": "https://localhost:8080/"
        },
        "id": "yJoV4AUPjrbq",
        "outputId": "46fb8c48-0c60-4cbe-81b7-55d1494c1193"
      },
      "execution_count": 10,
      "outputs": [
        {
          "output_type": "stream",
          "name": "stdout",
          "text": [
            "0.4410596891166258\n"
          ]
        }
      ]
    },
    {
      "cell_type": "code",
      "source": [
        "#Create a 10X10 array with random values and\n",
        "# find the minimum and maximum values.\n",
        "import numpy as np\n",
        "x = np.random.randint(50,size = (10,10))\n",
        "print(\"original array = \",x)\n",
        "xmin, xmax = x.min(), x.max()\n",
        "print(np.min(x))\n",
        "print(np.max(x))\n"
      ],
      "metadata": {
        "colab": {
          "base_uri": "https://localhost:8080/"
        },
        "id": "8Xt8_EaDjt-D",
        "outputId": "0424eb2d-0af7-47d4-834d-1559c60bfc4a"
      },
      "execution_count": 11,
      "outputs": [
        {
          "output_type": "stream",
          "name": "stdout",
          "text": [
            "original array =  [[35 21 35 13 46 15 16 15 46 33]\n",
            " [11  8  9 48 16 40 49 41 12 47]\n",
            " [ 7 35 44 37 23 21 38 36 44 16]\n",
            " [ 0 43 20 41  9 10 30 34 49 16]\n",
            " [22 29  0 11 40 42 34 30  4 22]\n",
            " [14 40  9 10 28 10  2  0 23 18]\n",
            " [13 27 34 16 33 46 23 30  4 19]\n",
            " [ 8 27 10 24  1 37 38 30 43 48]\n",
            " [30 27 12 36  5 45 33 22 44 20]\n",
            " [ 7  6 21  6  4 16 48 21 26 38]]\n",
            "0\n",
            "49\n"
          ]
        }
      ]
    },
    {
      "cell_type": "code",
      "source": [
        "#Create a zero array of size 10 and replace\n",
        "#5th element with 1.\n",
        "import numpy as np\n",
        "x = np.zeros((10))\n",
        "print(x)\n",
        "x[5]=1\n",
        "print(x)"
      ],
      "metadata": {
        "colab": {
          "base_uri": "https://localhost:8080/"
        },
        "id": "-TEE7qExjwpY",
        "outputId": "2571af0c-8938-4f42-d964-4eacbf8f7209"
      },
      "execution_count": 12,
      "outputs": [
        {
          "output_type": "stream",
          "name": "stdout",
          "text": [
            "[0. 0. 0. 0. 0. 0. 0. 0. 0. 0.]\n",
            "[0. 0. 0. 0. 0. 1. 0. 0. 0. 0.]\n"
          ]
        }
      ]
    },
    {
      "cell_type": "code",
      "source": [
        "#Reverse an array arr = [1,2,0,0,4,0].\n",
        "x = [1,2,0,0,4,0]\n",
        "x.reverse()\n",
        "print(x)"
      ],
      "metadata": {
        "colab": {
          "base_uri": "https://localhost:8080/"
        },
        "id": "4EdQOGpajzZg",
        "outputId": "40b7e1d6-32d7-44cf-dcb5-f89bec7d463d"
      },
      "execution_count": 13,
      "outputs": [
        {
          "output_type": "stream",
          "name": "stdout",
          "text": [
            "[0, 4, 0, 0, 2, 1]\n"
          ]
        }
      ]
    },
    {
      "cell_type": "code",
      "source": [
        "#Create a 2d array with 1 on border and 0 inside.\n",
        "import numpy as np\n",
        "x = np.ones((5,5))\n",
        "x [1:-1,1:-1] = 0\n",
        "print(x)"
      ],
      "metadata": {
        "colab": {
          "base_uri": "https://localhost:8080/"
        },
        "id": "tuRL1rj2j10b",
        "outputId": "09468a44-306d-49fc-eb6d-628f89a6838b"
      },
      "execution_count": 14,
      "outputs": [
        {
          "output_type": "stream",
          "name": "stdout",
          "text": [
            "[[1. 1. 1. 1. 1.]\n",
            " [1. 0. 0. 0. 1.]\n",
            " [1. 0. 0. 0. 1.]\n",
            " [1. 0. 0. 0. 1.]\n",
            " [1. 1. 1. 1. 1.]]\n"
          ]
        }
      ]
    },
    {
      "cell_type": "code",
      "source": [
        "#Create a 8X8 matrix and fill it with a checkerboard pattern.\n",
        "import numpy as np\n",
        "matrix = np.zeros((8, 8), dtype=int)\n",
        "matrix[::2, ::2] = 1\n",
        "matrix[1::2, 1::2] = 1\n",
        "\n",
        "print(matrix)\n"
      ],
      "metadata": {
        "colab": {
          "base_uri": "https://localhost:8080/"
        },
        "id": "UT67zUyMj34Q",
        "outputId": "8a99222b-a5c0-4a63-b54a-665163675848"
      },
      "execution_count": 15,
      "outputs": [
        {
          "output_type": "stream",
          "name": "stdout",
          "text": [
            "[[1 0 1 0 1 0 1 0]\n",
            " [0 1 0 1 0 1 0 1]\n",
            " [1 0 1 0 1 0 1 0]\n",
            " [0 1 0 1 0 1 0 1]\n",
            " [1 0 1 0 1 0 1 0]\n",
            " [0 1 0 1 0 1 0 1]\n",
            " [1 0 1 0 1 0 1 0]\n",
            " [0 1 0 1 0 1 0 1]]\n"
          ]
        }
      ]
    },
    {
      "cell_type": "code",
      "source": [
        "#Add the two array.\n",
        "import numpy as np\n",
        "x = np.array([[1,2],[3,5]])\n",
        "y = np.array([[5,6],[7,8]])\n",
        "v = ([9,10])\n",
        "w = ([11,12])\n",
        "z = np.add (x,y)\n",
        "print(z)\n",
        "x = np.add(v,w)\n",
        "print(x)"
      ],
      "metadata": {
        "colab": {
          "base_uri": "https://localhost:8080/"
        },
        "id": "1OCVRjQOj6Yz",
        "outputId": "eb82fc9c-e4b9-4173-aaa2-1ca37dbcf15e"
      },
      "execution_count": 16,
      "outputs": [
        {
          "output_type": "stream",
          "name": "stdout",
          "text": [
            "[[ 6  8]\n",
            " [10 13]]\n",
            "[20 22]\n"
          ]
        }
      ]
    },
    {
      "cell_type": "code",
      "source": [
        "#Subtract the two array.\n",
        "import numpy as np\n",
        "x = np.array([[1,2],[3,5]])\n",
        "y = np.array([[5,6],[7,8]])\n",
        "v = ([9,10])\n",
        "w = ([11,12])\n",
        "z = np.subtract(x,y)\n",
        "print(z)\n",
        "x = np.subtract(v,w)\n",
        "print(x)"
      ],
      "metadata": {
        "colab": {
          "base_uri": "https://localhost:8080/"
        },
        "id": "B76U4bv1j8h0",
        "outputId": "63909e57-e32a-475e-e060-7b35f7575dad"
      },
      "execution_count": 17,
      "outputs": [
        {
          "output_type": "stream",
          "name": "stdout",
          "text": [
            "[[-4 -4]\n",
            " [-4 -3]]\n",
            "[-2 -2]\n"
          ]
        }
      ]
    },
    {
      "cell_type": "code",
      "source": [
        "#Multiply the array with any integers of your choice.\n",
        "import numpy as np\n",
        "x = np.array([[1,2],[3,5]])\n",
        "y = np.array([[5,6],[7,8]])\n",
        "v = ([9,10])\n",
        "w = ([11,12])\n",
        "z = np.multiply(5,x)\n",
        "print(z)\n",
        "a = np.multiply(2,y)\n",
        "print(a)\n",
        "x = np.multiply(4,v)\n",
        "print(x)\n",
        "a = np.multiply(5,w)\n",
        "print(a)"
      ],
      "metadata": {
        "colab": {
          "base_uri": "https://localhost:8080/"
        },
        "id": "Fe1RfLTTj---",
        "outputId": "c220a054-fc47-4212-d780-33f95d957dda"
      },
      "execution_count": 18,
      "outputs": [
        {
          "output_type": "stream",
          "name": "stdout",
          "text": [
            "[[ 5 10]\n",
            " [15 25]]\n",
            "[[10 12]\n",
            " [14 16]]\n",
            "[36 40]\n",
            "[55 60]\n"
          ]
        }
      ]
    },
    {
      "cell_type": "code",
      "source": [
        "#Find the square of each element of the array.\n",
        "import numpy as np\n",
        "x = np.array([[1,2],[3,5]])\n",
        "y = np.array([[5,6],[7,8]])\n",
        "v = ([9,10])\n",
        "w = ([11,12])\n",
        "a = np.square(x)\n",
        "print(a)\n",
        "b = np.square(y)\n",
        "print(b)\n",
        "c = np.square(v)\n",
        "print(c)\n",
        "d = np.square(w)\n",
        "print(d)"
      ],
      "metadata": {
        "colab": {
          "base_uri": "https://localhost:8080/"
        },
        "id": "-l2dYzb7kBXj",
        "outputId": "3450c2b8-f517-406e-d8e4-1f3f8817e76a"
      },
      "execution_count": 19,
      "outputs": [
        {
          "output_type": "stream",
          "name": "stdout",
          "text": [
            "[[ 1  4]\n",
            " [ 9 25]]\n",
            "[[25 36]\n",
            " [49 64]]\n",
            "[ 81 100]\n",
            "[121 144]\n"
          ]
        }
      ]
    },
    {
      "cell_type": "code",
      "source": [
        "#Find the dot product between: v(and)w ; x(and)v ; x(and)y.\n",
        "import numpy as np\n",
        "x = np.array([[1,2],[3,5]])\n",
        "y = np.array([[5,6],[7,8]])\n",
        "v = ([9,10])\n",
        "w = ([11,12])\n",
        "a = np.dot(v,w)\n",
        "print(a)\n",
        "b = np.dot(x,v)\n",
        "print(b)\n",
        "c = np.dot(x,y)\n",
        "print(c)"
      ],
      "metadata": {
        "colab": {
          "base_uri": "https://localhost:8080/"
        },
        "id": "NmL2ZtE2kDmj",
        "outputId": "5ad88a08-5ae2-4265-c740-15745e7c6877"
      },
      "execution_count": 20,
      "outputs": [
        {
          "output_type": "stream",
          "name": "stdout",
          "text": [
            "219\n",
            "[29 77]\n",
            "[[19 22]\n",
            " [50 58]]\n"
          ]
        }
      ]
    },
    {
      "cell_type": "code",
      "source": [
        "#Concatenate x(and)y along row and Concatenate v(and)w along column.\n",
        "import numpy as np\n",
        "x = np.array([[1,2],[3,5]])\n",
        "y = np.array([[5,6],[7,8]])\n",
        "v = ([9,10])\n",
        "w = ([11,12])\n",
        "a = np.concatenate((x,y), axis = 1)\n",
        "print(a)\n",
        "b = np.hstack((v,w))\n",
        "print(b)"
      ],
      "metadata": {
        "colab": {
          "base_uri": "https://localhost:8080/"
        },
        "id": "zFVpm-7BkFlF",
        "outputId": "525c4825-5792-44f6-f5aa-53b55c325795"
      },
      "execution_count": 21,
      "outputs": [
        {
          "output_type": "stream",
          "name": "stdout",
          "text": [
            "[[1 2 5 6]\n",
            " [3 5 7 8]]\n",
            "[ 9 10 11 12]\n"
          ]
        }
      ]
    },
    {
      "cell_type": "code",
      "source": [
        "#Concatenate x(and)v; if you get an error, observe and explain why did you get the error?\n",
        "import numpy as np\n",
        "x = ([[1,2],[3,5]])\n",
        "v = ([9,10])\n",
        "a = np.concatenate(x,v)\n",
        "print(a)\n",
        "#Cause we concatenate because size of x = (2,2) and v + (1,2)"
      ],
      "metadata": {
        "colab": {
          "base_uri": "https://localhost:8080/",
          "height": 211
        },
        "id": "kU4XD43mkHs-",
        "outputId": "f5e84948-ff88-4619-8aa1-75cdfe7eb658"
      },
      "execution_count": 22,
      "outputs": [
        {
          "output_type": "error",
          "ename": "TypeError",
          "evalue": "'list' object cannot be interpreted as an integer",
          "traceback": [
            "\u001b[0;31m---------------------------------------------------------------------------\u001b[0m",
            "\u001b[0;31mTypeError\u001b[0m                                 Traceback (most recent call last)",
            "\u001b[0;32m<ipython-input-22-8ba1a0964245>\u001b[0m in \u001b[0;36m<cell line: 5>\u001b[0;34m()\u001b[0m\n\u001b[1;32m      3\u001b[0m \u001b[0mx\u001b[0m \u001b[0;34m=\u001b[0m \u001b[0;34m(\u001b[0m\u001b[0;34m[\u001b[0m\u001b[0;34m[\u001b[0m\u001b[0;36m1\u001b[0m\u001b[0;34m,\u001b[0m\u001b[0;36m2\u001b[0m\u001b[0;34m]\u001b[0m\u001b[0;34m,\u001b[0m\u001b[0;34m[\u001b[0m\u001b[0;36m3\u001b[0m\u001b[0;34m,\u001b[0m\u001b[0;36m5\u001b[0m\u001b[0;34m]\u001b[0m\u001b[0;34m]\u001b[0m\u001b[0;34m)\u001b[0m\u001b[0;34m\u001b[0m\u001b[0;34m\u001b[0m\u001b[0m\n\u001b[1;32m      4\u001b[0m \u001b[0mv\u001b[0m \u001b[0;34m=\u001b[0m \u001b[0;34m(\u001b[0m\u001b[0;34m[\u001b[0m\u001b[0;36m9\u001b[0m\u001b[0;34m,\u001b[0m\u001b[0;36m10\u001b[0m\u001b[0;34m]\u001b[0m\u001b[0;34m)\u001b[0m\u001b[0;34m\u001b[0m\u001b[0;34m\u001b[0m\u001b[0m\n\u001b[0;32m----> 5\u001b[0;31m \u001b[0ma\u001b[0m \u001b[0;34m=\u001b[0m \u001b[0mnp\u001b[0m\u001b[0;34m.\u001b[0m\u001b[0mconcatenate\u001b[0m\u001b[0;34m(\u001b[0m\u001b[0mx\u001b[0m\u001b[0;34m,\u001b[0m\u001b[0mv\u001b[0m\u001b[0;34m)\u001b[0m\u001b[0;34m\u001b[0m\u001b[0;34m\u001b[0m\u001b[0m\n\u001b[0m\u001b[1;32m      6\u001b[0m \u001b[0mprint\u001b[0m\u001b[0;34m(\u001b[0m\u001b[0ma\u001b[0m\u001b[0;34m)\u001b[0m\u001b[0;34m\u001b[0m\u001b[0;34m\u001b[0m\u001b[0m\n\u001b[1;32m      7\u001b[0m \u001b[0;31m#Cause we concatenate because size of x = (2,2) and v + (1,2)\u001b[0m\u001b[0;34m\u001b[0m\u001b[0;34m\u001b[0m\u001b[0m\n",
            "\u001b[0;31mTypeError\u001b[0m: 'list' object cannot be interpreted as an integer"
          ]
        }
      ]
    },
    {
      "cell_type": "code",
      "source": [
        "#Prove A.A−1 = I.\n",
        "import numpy as np\n",
        "A = np.array([[3,4],[7,8]])\n",
        "Aa = (np.linalg.inv(A))\n",
        "c = (np.dot(A,Aa))\n",
        "print(c)"
      ],
      "metadata": {
        "colab": {
          "base_uri": "https://localhost:8080/"
        },
        "id": "FcTBsewukJ4o",
        "outputId": "f6413491-2a70-4a6b-e8a2-76b65d76ac83"
      },
      "execution_count": 23,
      "outputs": [
        {
          "output_type": "stream",
          "name": "stdout",
          "text": [
            "[[1.00000000e+00 0.00000000e+00]\n",
            " [1.77635684e-15 1.00000000e+00]]\n"
          ]
        }
      ]
    },
    {
      "cell_type": "code",
      "source": [
        "#Prove AB ̸= BA.\n",
        "import numpy as np\n",
        "A = np.array([[3,4],[7,8]])\n",
        "B = np.array([[5,3],[2,1]])\n",
        "c = (np.dot(A,B))\n",
        "print(c)\n",
        "d = (np.dot(B,A))\n",
        "print(d)\n",
        "print(\"AB!=BA\")"
      ],
      "metadata": {
        "colab": {
          "base_uri": "https://localhost:8080/"
        },
        "id": "TiPOOnjukLun",
        "outputId": "1509fba4-ca9a-49dc-8bc3-819d71302170"
      },
      "execution_count": 24,
      "outputs": [
        {
          "output_type": "stream",
          "name": "stdout",
          "text": [
            "[[23 13]\n",
            " [51 29]]\n",
            "[[36 44]\n",
            " [13 16]]\n",
            "AB!=BA\n"
          ]
        }
      ]
    },
    {
      "cell_type": "code",
      "source": [
        "#Prove (AB)' = B'A'\n",
        "import numpy as np\n",
        "A = np.array([[3,4],[7,8]])\n",
        "B = np.array([[5,3],[2,1]])\n",
        "\n",
        "C = (np.dot(A,B))\n",
        "a = (np.linalg.inv(C))\n",
        "print(a)\n",
        "\n",
        "Aa = (np.linalg.inv(A))\n",
        "Bb = (np.linalg.inv(B))\n",
        "b = (np.dot(Bb,Aa))\n",
        "\n",
        "print(b)"
      ],
      "metadata": {
        "colab": {
          "base_uri": "https://localhost:8080/"
        },
        "id": "1HfwKOFHkOQg",
        "outputId": "42d86b02-639c-4380-cfb8-2d174b389fd2"
      },
      "execution_count": 25,
      "outputs": [
        {
          "output_type": "stream",
          "name": "stdout",
          "text": [
            "[[  7.25  -3.25]\n",
            " [-12.75   5.75]]\n",
            "[[  7.25  -3.25]\n",
            " [-12.75   5.75]]\n"
          ]
        }
      ]
    },
    {
      "cell_type": "code",
      "source": [
        "import numpy as np\n",
        "A = ([[2,-3,1],\n",
        "      [1,-1,2],\n",
        "      [3,1,-1]])\n",
        "B = ([1,-3,9])\n",
        "\n",
        "W = (np.linalg.inv(A))\n",
        "S = (np.dot(W,B))\n",
        "\n",
        "print(S)"
      ],
      "metadata": {
        "colab": {
          "base_uri": "https://localhost:8080/"
        },
        "id": "ghXPl5KakQyg",
        "outputId": "daf2f92a-af8f-4bd6-8ab2-a9fdafe69e9e"
      },
      "execution_count": 26,
      "outputs": [
        {
          "output_type": "stream",
          "name": "stdout",
          "text": [
            "[ 2.10526316  0.26315789 -2.42105263]\n"
          ]
        }
      ]
    },
    {
      "cell_type": "code",
      "source": [
        "#Element-wise Addition:\n",
        "import time\n",
        "import numpy as np\n",
        "\n",
        "List1 = [i for i in range(1000000)]\n",
        "List2 = [i for i in range (1000000)]\n",
        "\n",
        "start_time = time.time()\n",
        "result  = (List1 + List2 for List1.List2 in zip (List1,List2))\n",
        "list_time = time.time() - start_time\n",
        "print (f\"Using python list : {list_time:.6f} sec \")\n",
        "\n",
        "array1 = np.arange(1000000)\n",
        "array2 = np.arange(1000000)\n",
        "\n",
        "start_time = time.time()\n",
        "result = array1 + array2\n",
        "array_time = time.time() - start_time\n",
        "print (f\" using numpy array : {array_time:.6f} sec\")"
      ],
      "metadata": {
        "colab": {
          "base_uri": "https://localhost:8080/"
        },
        "id": "D4eDr5t4kTID",
        "outputId": "ac62fb9c-38b2-47d5-e5e0-6b1d1375129f"
      },
      "execution_count": 27,
      "outputs": [
        {
          "output_type": "stream",
          "name": "stdout",
          "text": [
            "Using python list : 0.000152 sec \n",
            " using numpy array : 0.006423 sec\n"
          ]
        }
      ]
    },
    {
      "cell_type": "code",
      "source": [
        "import time\n",
        "import numpy as np\n",
        "\n",
        "List1 = (i for i in range(1000000))\n",
        "List2 = (i for i in range(1000000))\n",
        "\n",
        "start_time = time.time()\n",
        "result = (List1 * List2 for List1,List2 in zip (List1,  List2))\n",
        "List_time = time.time() - start_time\n",
        "print(f\"Using python list : {List_time:.6} sec\")\n",
        "\n",
        "array1 = np.arange(1000000)\n",
        "array2 = np.arange(1000000)\n",
        "\n",
        "start_time = time.time()\n",
        "result = (array1 * array2 for array1,array2 in zip(array1,array2))\n",
        "array_time = time.time() - start_time\n",
        "print(f\"Using numpy : {array_time:.6} sec\")"
      ],
      "metadata": {
        "colab": {
          "base_uri": "https://localhost:8080/"
        },
        "id": "_WovmFkdkVI9",
        "outputId": "6ab57ca2-ec6f-4f52-c13e-9cf22fa8a353"
      },
      "execution_count": 28,
      "outputs": [
        {
          "output_type": "stream",
          "name": "stdout",
          "text": [
            "Using python list : 8.44002e-05 sec\n",
            "Using numpy : 0.00016737 sec\n"
          ]
        }
      ]
    },
    {
      "cell_type": "code",
      "source": [
        "import time\n",
        "import numpy as np\n",
        "\n",
        "List1 = (i for i in range(1000000))\n",
        "List2 = (i for i in range(1000000))\n",
        "\n",
        "start_time = time.time()\n",
        "dot_product = sum(list1 * list2 for list1, list2 in zip(List1, List2))\n",
        "List_time = time.time() - start_time\n",
        "print(f\"Using python : {List_time:.6} sec\")\n",
        "\n",
        "array1 = np.arange(1000000)\n",
        "array2 = np.arange(1000000)\n",
        "\n",
        "start_time = time.time()\n",
        "result = np.dot(array1, array2)\n",
        "array_time = time.time() - start_time\n",
        "print(f\"Using python : {array_time:.6} sec\")"
      ],
      "metadata": {
        "colab": {
          "base_uri": "https://localhost:8080/"
        },
        "id": "rph7MP4ukXhH",
        "outputId": "fe759ff9-f855-4f1d-9aaf-47870331f0fc"
      },
      "execution_count": 29,
      "outputs": [
        {
          "output_type": "stream",
          "name": "stdout",
          "text": [
            "Using python : 0.208899 sec\n",
            "Using python : 0.00169492 sec\n"
          ]
        }
      ]
    },
    {
      "cell_type": "code",
      "source": [
        "import time\n",
        "import numpy as np\n",
        "\n",
        "def list(A, B):\n",
        "    result = [[sum(a * b for a, b in zip(A_row, B_col)) for B_col in zip(*B)] for A_row in A]\n",
        "    return result\n",
        "\n",
        "list1 = [[i + j for j in range(1000)] for i in range(1000)]\n",
        "list2 = [[i - j for j in range(1000)] for i in range(1000)]\n",
        "\n",
        "start_time = time.time()\n",
        "result_list = list(list1, list2)\n",
        "list_time = time.time() - start_time\n",
        "print(f\"Using python :{list_time:.6f}sec\")\n",
        "\n",
        "array1 = np.arange(1000000).reshape(1000, 1000)\n",
        "array2 = np.arange(1000000, 2000000).reshape(1000, 1000)\n",
        "\n",
        "start_time = time.time()\n",
        "result_array = np.dot(array1, array2)\n",
        "array_time = time.time() - start_time\n",
        "print(f\"Using numpy : {array_time:.6f} sec\")\n"
      ],
      "metadata": {
        "id": "s9CZBz9jkZWX"
      },
      "execution_count": null,
      "outputs": []
    }
  ]
}